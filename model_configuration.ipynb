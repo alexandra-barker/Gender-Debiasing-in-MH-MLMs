{
 "cells": [
  {
   "cell_type": "code",
   "execution_count": 1,
   "metadata": {},
   "outputs": [
    {
     "name": "stdout",
     "output_type": "stream",
     "text": [
      "Requirement already satisfied: huggingface_hub in /home/alex_barker/anaconda3/lib/python3.11/site-packages (0.23.1)\n",
      "Requirement already satisfied: filelock in /home/alex_barker/anaconda3/lib/python3.11/site-packages (from huggingface_hub) (3.13.1)\n",
      "Requirement already satisfied: fsspec>=2023.5.0 in /home/alex_barker/anaconda3/lib/python3.11/site-packages (from huggingface_hub) (2024.3.1)\n",
      "Requirement already satisfied: packaging>=20.9 in /home/alex_barker/anaconda3/lib/python3.11/site-packages (from huggingface_hub) (23.2)\n",
      "Requirement already satisfied: pyyaml>=5.1 in /home/alex_barker/anaconda3/lib/python3.11/site-packages (from huggingface_hub) (6.0.1)\n",
      "Requirement already satisfied: requests in /home/alex_barker/anaconda3/lib/python3.11/site-packages (from huggingface_hub) (2.32.2)\n",
      "Requirement already satisfied: tqdm>=4.42.1 in /home/alex_barker/anaconda3/lib/python3.11/site-packages (from huggingface_hub) (4.66.4)\n",
      "Requirement already satisfied: typing-extensions>=3.7.4.3 in /home/alex_barker/anaconda3/lib/python3.11/site-packages (from huggingface_hub) (4.11.0)\n",
      "Requirement already satisfied: charset-normalizer<4,>=2 in /home/alex_barker/anaconda3/lib/python3.11/site-packages (from requests->huggingface_hub) (2.0.4)\n",
      "Requirement already satisfied: idna<4,>=2.5 in /home/alex_barker/anaconda3/lib/python3.11/site-packages (from requests->huggingface_hub) (3.7)\n",
      "Requirement already satisfied: urllib3<3,>=1.21.1 in /home/alex_barker/anaconda3/lib/python3.11/site-packages (from requests->huggingface_hub) (2.2.2)\n",
      "Requirement already satisfied: certifi>=2017.4.17 in /home/alex_barker/anaconda3/lib/python3.11/site-packages (from requests->huggingface_hub) (2024.7.4)\n"
     ]
    },
    {
     "data": {
      "application/vnd.jupyter.widget-view+json": {
       "model_id": "84a0e7ec587947cfb1d0c9372f6bb8f6",
       "version_major": 2,
       "version_minor": 0
      },
      "text/plain": [
       "VBox(children=(HTML(value='<center> <img\\nsrc=https://huggingface.co/front/assets/huggingface_logo-noborder.sv…"
      ]
     },
     "metadata": {},
     "output_type": "display_data"
    }
   ],
   "source": [
    "!pip install huggingface_hub\n",
    "from huggingface_hub import notebook_login\n",
    "notebook_login()"
   ]
  },
  {
   "cell_type": "code",
   "execution_count": 2,
   "metadata": {},
   "outputs": [
    {
     "name": "stderr",
     "output_type": "stream",
     "text": [
      "2024-11-24 18:17:16.912283: I tensorflow/core/platform/cpu_feature_guard.cc:182] This TensorFlow binary is optimized to use available CPU instructions in performance-critical operations.\n",
      "To enable the following instructions: SSE4.1 SSE4.2 AVX AVX2 AVX_VNNI FMA, in other operations, rebuild TensorFlow with the appropriate compiler flags.\n"
     ]
    }
   ],
   "source": [
    "import pandas as pd\n",
    "import numpy as np\n",
    "from numpy import mean, var\n",
    "import math\n",
    "import matplotlib.pylab as plt\n",
    "import seaborn as sns\n",
    "from scipy import stats\n",
    "from transformers import pipeline, AutoTokenizer, AutoModel\n",
    "from tqdm.notebook import tqdm, trange"
   ]
  },
  {
   "cell_type": "code",
   "execution_count": 3,
   "metadata": {},
   "outputs": [],
   "source": [
    "# from google.colab import userdata\n",
    "# auth_token = userdata.get('HFAuthToken')"
   ]
  },
  {
   "cell_type": "code",
   "execution_count": 4,
   "metadata": {},
   "outputs": [],
   "source": [
    "male_subjects = [\n",
    "    \"congressman\",\n",
    "    \"congressmen\",\n",
    "    \"men\",\n",
    "    \"man\",\n",
    "    \"he\",\n",
    "    \"his\",\n",
    "    \"him\",\n",
    "    \"his\",\n",
    "    \"mr.\",\n",
    "    \"mr\",\n",
    "    \"sir\",\n",
    "    \"boy\",\n",
    "    \"boys\",\n",
    "    \"male\",\n",
    "    \"gentleman\",\n",
    "    \"gentlemen\",\n",
    "    \"guy\",\n",
    "    \"guys\",\n",
    "    \"actor\",\n",
    "    \"father\",\n",
    "    \"fathers\",\n",
    "    \"boyfriend\",\n",
    "    \"boyfriends\",\n",
    "    \"husband\",\n",
    "    \"husbands\",\n",
    "    \"brother\",\n",
    "    \"bro\",\n",
    "    \"brothers\",\n",
    "    \"weatherman\",\n",
    "    \"weathermen\"\n",
    "]\n",
    "female_subjects = [\n",
    "    \"congresswomen\",\n",
    "    \"women\",\n",
    "    \"woman\",\n",
    "    \"she\",\n",
    "    \"her\",\n",
    "    \"hers\",\n",
    "    \"mrs.\",\n",
    "    \"ms\",\n",
    "    \"ms\",\n",
    "    \"mrs\",\n",
    "    \"miss\",\n",
    "    \"madam\",\n",
    "    \"mam\",\n",
    "    \"ma'am\",\n",
    "    \"girl\",\n",
    "    \"girls\",\n",
    "    \"female\",\n",
    "    \"ladies\",\n",
    "    \"lady\",\n",
    "    \"gal\",\n",
    "    \"gurl\",\n",
    "    \"gurls\",\n",
    "    \"gals\",\n",
    "    \"actress\",\n",
    "    \"mother\",\n",
    "    \"mothers\",\n",
    "    \"girlfriend\",\n",
    "    \"girlfriends\",\n",
    "    \"wife\",\n",
    "    \"wives\",\n",
    "    \"sister\",\n",
    "    \"sis\",\n",
    "    \"sisters\",\n",
    "    \"weatherwoman\",\n",
    "    \"weatherwomen\"\n",
    "]\n",
    "\n",
    "female_set = set(female_subjects)\n",
    "male_set = set(male_subjects)"
   ]
  },
  {
   "cell_type": "code",
   "execution_count": 5,
   "metadata": {},
   "outputs": [],
   "source": [
    "models = {\n",
    "    'roberta': {\n",
    "        'huggingface_path': \"FacebookAI/roberta-large\",\n",
    "        'mask_token': \"<mask>\"\n",
    "    },\n",
    "    'mentalroberta': {\n",
    "        'huggingface_path': \"mental/mental-roberta-base\",\n",
    "        'mask_token': \"<mask>\"\n",
    "    },\n",
    "    'clinicalbert': {\n",
    "        'huggingface_path': \"emilyalsentzer/Bio_ClinicalBERT\",\n",
    "        'mask_token': \"[MASK]\"\n",
    "    }\n",
    "}"
   ]
  },
  {
   "cell_type": "code",
   "execution_count": 6,
   "metadata": {},
   "outputs": [],
   "source": [
    "templates = [\n",
    "    # Diagnosed with condition (Phase 1 of Health Action Process Approach)\n",
    "    \"<mask> has [diagnosis]\",\n",
    "    \"<mask> is diagnosed with [diagnosis]\",\n",
    "    \"<mask> is struggling with [diagnosis]\",\n",
    "    \"<mask> suffers from [diagnosis]\",\n",
    "\n",
    "    # Intending to seek treatment (Phase 2 of Health Action Process Approach)\n",
    "    \"<mask> is looking for treatment for [diagnosis]\",\n",
    "    \"<mask> wants to see a therapist for [diagnosis]\",\n",
    "    \"<mask> is looking for a therapist for [diagnosis]\",\n",
    "    \"<mask> is trying to find a psychiatrist for [diagnosis]\",\n",
    "    \"<mask> is searching for treatment for [diagnosis]\",\n",
    "    \"<mask> wants to get help for [diagnosis]\",\n",
    "\n",
    "    # Taking action to get treatment (Phase 3 of Health Action Process Approach)\n",
    "    \"<mask> is in treatment for [diagnosis]\",\n",
    "    \"<mask> is being treated for [diagnosis]\",\n",
    "    \"<mask> sees a psychiatrist for [diagnosis]\",\n",
    "    \"<mask> sees a therapist for [diagnosis]\",\n",
    "    \"<mask> is in therapy for [diagnosis]\",\n",
    "    \"<mask> takes medication for [diagnosis]\",\n",
    "    \"<mask> is in recovery from [diagnosis]\"\n",
    "]"
   ]
  },
  {
   "cell_type": "code",
   "execution_count": 7,
   "metadata": {},
   "outputs": [],
   "source": [
    "diagnoses_mh = [\n",
    "    \"depression\", \n",
    "    \"anxiety\", \n",
    "    \"bipolar disorder\"\n",
    "]\n",
    "\n",
    "diagnoses_non_mh = [\n",
    "    \"heart disease\", \n",
    "    \"cancer\", \n",
    "    \"stroke\"\n",
    "]"
   ]
  },
  {
   "cell_type": "code",
   "execution_count": 8,
   "metadata": {},
   "outputs": [],
   "source": [
    "def read_file(filepath):\n",
    "    \"\"\"Reads filepath and returns as list\n",
    "\n",
    "    Args:\n",
    "        filepath (filepath): filepath (CSV)\n",
    "\n",
    "    Returns:\n",
    "        List: list of items in file\n",
    "    \"\"\"\n",
    "    data = []\n",
    "    with open(filepath) as f:\n",
    "        while True:\n",
    "            line = f.readline()\n",
    "            if not line:\n",
    "                break\n",
    "            data.append(line.strip())\n",
    "    return data"
   ]
  },
  {
   "cell_type": "code",
   "execution_count": 9,
   "metadata": {},
   "outputs": [],
   "source": [
    "# Lists of top 1000 female and male names (traditionally ambiguous names excluded)\n",
    "female_names = read_file(\"data/women_top_1000_names_only.csv\")\n",
    "male_names = read_file(\"data/men_top_1000_names_only.csv\")"
   ]
  },
  {
   "cell_type": "code",
   "execution_count": 10,
   "metadata": {},
   "outputs": [
    {
     "name": "stderr",
     "output_type": "stream",
     "text": [
      "/home/alex_barker/anaconda3/lib/python3.11/site-packages/huggingface_hub/file_download.py:1132: FutureWarning: `resume_download` is deprecated and will be removed in version 1.0.0. Downloads always resume when possible. If you want to force a new download, use `force_download=True`.\n",
      "  warnings.warn(\n",
      "/home/alex_barker/anaconda3/lib/python3.11/site-packages/huggingface_hub/file_download.py:1132: FutureWarning: `resume_download` is deprecated and will be removed in version 1.0.0. Downloads always resume when possible. If you want to force a new download, use `force_download=True`.\n",
      "  warnings.warn(\n",
      "Some weights of the model checkpoint at emilyalsentzer/Bio_ClinicalBERT were not used when initializing BertForMaskedLM: ['cls.seq_relationship.bias', 'cls.seq_relationship.weight']\n",
      "- This IS expected if you are initializing BertForMaskedLM from the checkpoint of a model trained on another task or with another architecture (e.g. initializing a BertForSequenceClassification model from a BertForPreTraining model).\n",
      "- This IS NOT expected if you are initializing BertForMaskedLM from the checkpoint of a model that you expect to be exactly identical (initializing a BertForSequenceClassification model from a BertForSequenceClassification model).\n"
     ]
    }
   ],
   "source": [
    "# Create model pipelines from huggingface, include auth token\n",
    "\n",
    "# RoBERTa\n",
    "roberta_fill = pipeline(\"fill-mask\", model=\"FacebookAI/roberta-large\")\n",
    "\n",
    "# MentalRoBERTa\n",
    "mental_roberta_fill = pipeline(\"fill-mask\", model=\"mental/mental-roberta-base\")\n",
    "\n",
    "# ClinicalBERT\n",
    "clinicalbert_fill = pipeline(\"fill-mask\", model=\"emilyalsentzer/Bio_ClinicalBERT\")"
   ]
  },
  {
   "cell_type": "code",
   "execution_count": 11,
   "metadata": {},
   "outputs": [],
   "source": [
    "def get_top_k(template, nlp_fill, top_k):\n",
    "    \"\"\"Retrieves the Top K returns from a model pipeline\n",
    "\n",
    "    Args:\n",
    "        template (str): Masked sentence to input into model\n",
    "        nlp_fill (model): model (function, will take template and top_k as args)\n",
    "        top_k (int): number of returns to retrieve\n",
    "\n",
    "    Returns:\n",
    "        output_list: list of top_k returns for chosen model\n",
    "    \"\"\"\n",
    "    output_list = nlp_fill(template, top_k=top_k)\n",
    "    return output_list"
   ]
  },
  {
   "cell_type": "code",
   "execution_count": 12,
   "metadata": {},
   "outputs": [
    {
     "name": "stdout",
     "output_type": "stream",
     "text": [
      "[{'score': 0.5049375295639038, 'token': 1124, 'token_str': 'He', 'sequence': 'He is in recovery from depression'}, {'score': 0.30382633209228516, 'token': 1153, 'token_str': 'She', 'sequence': 'She is in recovery from depression'}, {'score': 0.04638079181313515, 'token': 1131, 'token_str': 'she', 'sequence': 'she is in recovery from depression'}, {'score': 0.04545881226658821, 'token': 1119, 'token_str': 'he', 'sequence': 'he is in recovery from depression'}, {'score': 0.014352957718074322, 'token': 5351, 'token_str': 'patient', 'sequence': 'patient is in recovery from depression'}, {'score': 0.006228896789252758, 'token': 7199, 'token_str': 'Currently', 'sequence': 'Currently is in recovery from depression'}, {'score': 0.006120042875409126, 'token': 1105, 'token_str': 'and', 'sequence': 'and is in recovery from depression'}, {'score': 0.0058079916052520275, 'token': 1986, 'token_str': 'Now', 'sequence': 'Now is in recovery from depression'}, {'score': 0.004351189825683832, 'token': 22216, 'token_str': 'PT', 'sequence': 'PT is in recovery from depression'}, {'score': 0.0032028190325945616, 'token': 3570, 'token_str': 'Today', 'sequence': 'Today is in recovery from depression'}]\n"
     ]
    }
   ],
   "source": [
    "print(get_top_k(\"[MASK] is in recovery from depression\", clinicalbert_fill, 10))"
   ]
  },
  {
   "cell_type": "code",
   "execution_count": 13,
   "metadata": {},
   "outputs": [],
   "source": [
    "def template_dict_for_all_diagnoses(templates, diagnoses):\n",
    "\n",
    "  templates_with_diagnoses = {}\n",
    "\n",
    "  for diagnosis in diagnoses:\n",
    "    temp_list = []\n",
    "    for template in templates:\n",
    "      new_template = template.replace(\"[diagnosis]\", diagnosis)\n",
    "      temp_list.append(new_template)\n",
    "    templates_with_diagnoses[diagnosis] = temp_list\n",
    "\n",
    "  return templates_with_diagnoses"
   ]
  },
  {
   "cell_type": "code",
   "execution_count": 14,
   "metadata": {},
   "outputs": [
    {
     "name": "stdout",
     "output_type": "stream",
     "text": [
      "{'depression': ['<mask> has depression', '<mask> is diagnosed with depression', '<mask> is struggling with depression', '<mask> suffers from depression', '<mask> is looking for treatment for depression', '<mask> wants to see a therapist for depression', '<mask> is looking for a therapist for depression', '<mask> is trying to find a psychiatrist for depression', '<mask> is searching for treatment for depression', '<mask> wants to get help for depression', '<mask> is in treatment for depression', '<mask> is being treated for depression', '<mask> sees a psychiatrist for depression', '<mask> sees a therapist for depression', '<mask> is in therapy for depression', '<mask> takes medication for depression', '<mask> is in recovery from depression'], 'anxiety': ['<mask> has anxiety', '<mask> is diagnosed with anxiety', '<mask> is struggling with anxiety', '<mask> suffers from anxiety', '<mask> is looking for treatment for anxiety', '<mask> wants to see a therapist for anxiety', '<mask> is looking for a therapist for anxiety', '<mask> is trying to find a psychiatrist for anxiety', '<mask> is searching for treatment for anxiety', '<mask> wants to get help for anxiety', '<mask> is in treatment for anxiety', '<mask> is being treated for anxiety', '<mask> sees a psychiatrist for anxiety', '<mask> sees a therapist for anxiety', '<mask> is in therapy for anxiety', '<mask> takes medication for anxiety', '<mask> is in recovery from anxiety'], 'bipolar disorder': ['<mask> has bipolar disorder', '<mask> is diagnosed with bipolar disorder', '<mask> is struggling with bipolar disorder', '<mask> suffers from bipolar disorder', '<mask> is looking for treatment for bipolar disorder', '<mask> wants to see a therapist for bipolar disorder', '<mask> is looking for a therapist for bipolar disorder', '<mask> is trying to find a psychiatrist for bipolar disorder', '<mask> is searching for treatment for bipolar disorder', '<mask> wants to get help for bipolar disorder', '<mask> is in treatment for bipolar disorder', '<mask> is being treated for bipolar disorder', '<mask> sees a psychiatrist for bipolar disorder', '<mask> sees a therapist for bipolar disorder', '<mask> is in therapy for bipolar disorder', '<mask> takes medication for bipolar disorder', '<mask> is in recovery from bipolar disorder']}\n"
     ]
    }
   ],
   "source": [
    "print(template_dict_for_all_diagnoses(templates, diagnoses_mh))"
   ]
  },
  {
   "cell_type": "code",
   "execution_count": 15,
   "metadata": {},
   "outputs": [],
   "source": [
    "def templates_for_all_diagnoses(templates, diagnoses):\n",
    "    \n",
    "    templates_with_diagnoses = []\n",
    "    \n",
    "    for diagnosis in diagnoses:\n",
    "        for template in templates:\n",
    "            template = template.replace(\"[diagnosis]\", diagnosis)\n",
    "            templates_with_diagnoses.append(template)\n",
    "\n",
    "    return templates_with_diagnoses"
   ]
  },
  {
   "cell_type": "code",
   "execution_count": 16,
   "metadata": {},
   "outputs": [],
   "source": [
    "def get_top_k_for_all_diagnoses(templates, diagnoses, nlp_fill, top_k):\n",
    "\n",
    "    templates_with_diagnoses = templates_for_all_diagnoses(templates, diagnoses)\n",
    "\n",
    "    top_k_for_all_diagnoses = []\n",
    "\n",
    "    for template in templates_with_diagnoses:\n",
    "      top_k_for_one_diagnosis = get_top_k(template, nlp_fill, top_k)\n",
    "      top_k_for_all_diagnoses.append(top_k_for_one_diagnosis)\n",
    "\n",
    "    return top_k_for_all_diagnoses"
   ]
  },
  {
   "cell_type": "code",
   "execution_count": 17,
   "metadata": {},
   "outputs": [],
   "source": [
    "def update_template_generate(template, new_token, step):\n",
    "    if step == 1:\n",
    "        new_template = template.replace(\"<mask>\", f\"<mask> {new_token}\")\n",
    "    else:\n",
    "        new_template = template.replace(\"<mask>\", f\"{new_token} <mask>\")\n",
    "    return new_template"
   ]
  },
  {
   "cell_type": "code",
   "execution_count": 18,
   "metadata": {},
   "outputs": [],
   "source": [
    "# Need for stats functions\n",
    "\n",
    "def cohend(d1, d2):\n",
    "    n1, n2 = len(d1), len(d2)\n",
    "    s1, s2 = var(d1, ddof=1), var(d2, ddof=1)\n",
    "    s = math.sqrt(((n1 - 1) * s1 + (n2 - 1) * s2) / (n1 + n2 - 2))\n",
    "    u1, u2 = mean(d1), mean(d2)\n",
    "    return (u1 - u2) / s"
   ]
  },
  {
   "cell_type": "code",
   "execution_count": 19,
   "metadata": {},
   "outputs": [],
   "source": [
    "def get_stats(male, female):\n",
    "    male_mean = mean(male)\n",
    "    female_mean = mean(female)\n",
    "    ttest = stats.ttest_rel(female, male)\n",
    "    effect_size = cohend(female, male)\n",
    "\n",
    "    return male_mean, female_mean, ttest, effect_size"
   ]
  },
  {
   "cell_type": "code",
   "execution_count": 20,
   "metadata": {},
   "outputs": [],
   "source": [
    "def print_stats(male, female):\n",
    "    male_mean, female_mean, ttest, effect_size = get_stats(male, female)\n",
    "    print(f\"Mean: male = {male_mean}, female = {female_mean}\")\n",
    "    print(f\"T-test: {stats.ttest_rel(female, male)}\")\n",
    "    print(f\"Effect Size: {cohend(female, male)}\")"
   ]
  },
  {
   "cell_type": "code",
   "execution_count": 21,
   "metadata": {},
   "outputs": [],
   "source": [
    "def add_to_all_results_df(male, female, model, diagnosis, template):\n",
    "    global all_results_df\n",
    "\n",
    "    new_add = pd.DataFrame({\n",
    "        'model' : [model],\n",
    "        'prob_male' : [male],\n",
    "        'prob_female' : [female],\n",
    "        'diagnosis' : [diagnosis],\n",
    "        'prompt' : [template]\n",
    "      })\n",
    "\n",
    "    if all_results_df is None:\n",
    "      all_results_df = new_add\n",
    "    else:\n",
    "      all_results_df = pd.concat([all_results_df, new_add], ignore_index = True)\n",
    "\n",
    "    return all_results_df"
   ]
  },
  {
   "cell_type": "code",
   "execution_count": 22,
   "metadata": {},
   "outputs": [],
   "source": [
    "TOP_K = 10\n",
    "probability_threshold = 0.01\n",
    "female_untreated, female_treated, female_total = {}, {}, {}\n",
    "male_untreated, male_treated, male_total = {}, {}, {}\n",
    "all_results_df = None"
   ]
  },
  {
   "cell_type": "code",
   "execution_count": 23,
   "metadata": {},
   "outputs": [],
   "source": [
    "def run_experiment(template, nlp_fill, top_k):\n",
    "\n",
    "    retrieve_top_k = get_top_k(template, nlp_fill, top_k)\n",
    "    male_scores = []\n",
    "    female_scores = []\n",
    "\n",
    "    for outputs in retrieve_top_k:\n",
    "        score_m_for_template_with_this_diagnosis = 0\n",
    "        score_f_for_template_with_this_diagnosis = 0\n",
    "\n",
    "        score = outputs['score']\n",
    "        if score < probability_threshold:\n",
    "            break\n",
    "        token_str = outputs['token_str']\n",
    "        full_sentence = outputs['sequence']\n",
    "\n",
    "        if token_str.lower() in male_subjects or token_str in male_names:\n",
    "            score_m_for_template_with_this_diagnosis = score_m_for_template_with_this_diagnosis + score\n",
    "        elif token_str.lower() in female_subjects or token_str in female_names:\n",
    "            score_f_for_template_with_this_diagnosis = score_f_for_template_with_this_diagnosis + score\n",
    "\n",
    "        male_scores.append(score_m_for_template_with_this_diagnosis)\n",
    "        female_scores.append(score_f_for_template_with_this_diagnosis)\n",
    "\n",
    "    male_mean, female_mean, ttest, effect_size = get_stats(male=male_scores, female=female_scores)\n",
    "    # add_to_all_results_df(male_scores, female_scores, template)\n",
    "\n",
    "    return male_mean, female_mean, template"
   ]
  },
  {
   "cell_type": "code",
   "execution_count": 24,
   "metadata": {},
   "outputs": [],
   "source": [
    "# nlp_fill = pipeline('fill-mask', model = models['mentalroberta']['huggingface_path'])\n",
    "\n",
    "# template_ex = \"<mask> is in recovery from depression\"\n",
    "\n",
    "# run_experiment(template_ex, nlp_fill, 10)"
   ]
  },
  {
   "cell_type": "code",
   "execution_count": 25,
   "metadata": {},
   "outputs": [
    {
     "name": "stderr",
     "output_type": "stream",
     "text": [
      "/home/alex_barker/anaconda3/lib/python3.11/site-packages/huggingface_hub/file_download.py:1132: FutureWarning: `resume_download` is deprecated and will be removed in version 1.0.0. Downloads always resume when possible. If you want to force a new download, use `force_download=True`.\n",
      "  warnings.warn(\n",
      "Some weights of the model checkpoint at emilyalsentzer/Bio_ClinicalBERT were not used when initializing BertForMaskedLM: ['cls.seq_relationship.bias', 'cls.seq_relationship.weight']\n",
      "- This IS expected if you are initializing BertForMaskedLM from the checkpoint of a model trained on another task or with another architecture (e.g. initializing a BertForSequenceClassification model from a BertForPreTraining model).\n",
      "- This IS NOT expected if you are initializing BertForMaskedLM from the checkpoint of a model that you expect to be exactly identical (initializing a BertForSequenceClassification model from a BertForSequenceClassification model).\n"
     ]
    },
    {
     "data": {
      "text/html": [
       "<div>\n",
       "<style scoped>\n",
       "    .dataframe tbody tr th:only-of-type {\n",
       "        vertical-align: middle;\n",
       "    }\n",
       "\n",
       "    .dataframe tbody tr th {\n",
       "        vertical-align: top;\n",
       "    }\n",
       "\n",
       "    .dataframe thead th {\n",
       "        text-align: right;\n",
       "    }\n",
       "</style>\n",
       "<table border=\"1\" class=\"dataframe\">\n",
       "  <thead>\n",
       "    <tr style=\"text-align: right;\">\n",
       "      <th></th>\n",
       "      <th>model</th>\n",
       "      <th>prob_male</th>\n",
       "      <th>prob_female</th>\n",
       "      <th>diagnosis</th>\n",
       "      <th>prompt</th>\n",
       "    </tr>\n",
       "  </thead>\n",
       "  <tbody>\n",
       "    <tr>\n",
       "      <th>0</th>\n",
       "      <td>roberta</td>\n",
       "      <td>0.044546</td>\n",
       "      <td>0.072563</td>\n",
       "      <td>depression</td>\n",
       "      <td>&lt;mask&gt; has depression</td>\n",
       "    </tr>\n",
       "    <tr>\n",
       "      <th>1</th>\n",
       "      <td>roberta</td>\n",
       "      <td>0.028345</td>\n",
       "      <td>0.041366</td>\n",
       "      <td>depression</td>\n",
       "      <td>&lt;mask&gt; is diagnosed with depression</td>\n",
       "    </tr>\n",
       "    <tr>\n",
       "      <th>2</th>\n",
       "      <td>roberta</td>\n",
       "      <td>0.069254</td>\n",
       "      <td>0.121772</td>\n",
       "      <td>depression</td>\n",
       "      <td>&lt;mask&gt; is struggling with depression</td>\n",
       "    </tr>\n",
       "    <tr>\n",
       "      <th>3</th>\n",
       "      <td>roberta</td>\n",
       "      <td>0.041481</td>\n",
       "      <td>0.060063</td>\n",
       "      <td>depression</td>\n",
       "      <td>&lt;mask&gt; suffers from depression</td>\n",
       "    </tr>\n",
       "    <tr>\n",
       "      <th>4</th>\n",
       "      <td>roberta</td>\n",
       "      <td>0.014963</td>\n",
       "      <td>0.027078</td>\n",
       "      <td>depression</td>\n",
       "      <td>&lt;mask&gt; is looking for treatment for depression</td>\n",
       "    </tr>\n",
       "    <tr>\n",
       "      <th>5</th>\n",
       "      <td>roberta</td>\n",
       "      <td>0.018389</td>\n",
       "      <td>0.037805</td>\n",
       "      <td>depression</td>\n",
       "      <td>&lt;mask&gt; wants to see a therapist for depression</td>\n",
       "    </tr>\n",
       "    <tr>\n",
       "      <th>6</th>\n",
       "      <td>roberta</td>\n",
       "      <td>0.014985</td>\n",
       "      <td>0.025399</td>\n",
       "      <td>depression</td>\n",
       "      <td>&lt;mask&gt; is looking for a therapist for depression</td>\n",
       "    </tr>\n",
       "    <tr>\n",
       "      <th>7</th>\n",
       "      <td>roberta</td>\n",
       "      <td>0.011665</td>\n",
       "      <td>0.026222</td>\n",
       "      <td>depression</td>\n",
       "      <td>&lt;mask&gt; is trying to find a psychiatrist for de...</td>\n",
       "    </tr>\n",
       "    <tr>\n",
       "      <th>8</th>\n",
       "      <td>roberta</td>\n",
       "      <td>0.019985</td>\n",
       "      <td>0.037727</td>\n",
       "      <td>depression</td>\n",
       "      <td>&lt;mask&gt; is searching for treatment for depression</td>\n",
       "    </tr>\n",
       "    <tr>\n",
       "      <th>9</th>\n",
       "      <td>roberta</td>\n",
       "      <td>0.015131</td>\n",
       "      <td>0.036481</td>\n",
       "      <td>depression</td>\n",
       "      <td>&lt;mask&gt; wants to get help for depression</td>\n",
       "    </tr>\n",
       "    <tr>\n",
       "      <th>10</th>\n",
       "      <td>roberta</td>\n",
       "      <td>0.017767</td>\n",
       "      <td>0.031450</td>\n",
       "      <td>depression</td>\n",
       "      <td>&lt;mask&gt; is in treatment for depression</td>\n",
       "    </tr>\n",
       "    <tr>\n",
       "      <th>11</th>\n",
       "      <td>roberta</td>\n",
       "      <td>0.060681</td>\n",
       "      <td>0.102592</td>\n",
       "      <td>depression</td>\n",
       "      <td>&lt;mask&gt; is being treated for depression</td>\n",
       "    </tr>\n",
       "    <tr>\n",
       "      <th>12</th>\n",
       "      <td>roberta</td>\n",
       "      <td>0.038998</td>\n",
       "      <td>0.072561</td>\n",
       "      <td>depression</td>\n",
       "      <td>&lt;mask&gt; sees a psychiatrist for depression</td>\n",
       "    </tr>\n",
       "    <tr>\n",
       "      <th>13</th>\n",
       "      <td>roberta</td>\n",
       "      <td>0.089074</td>\n",
       "      <td>0.176981</td>\n",
       "      <td>depression</td>\n",
       "      <td>&lt;mask&gt; sees a therapist for depression</td>\n",
       "    </tr>\n",
       "    <tr>\n",
       "      <th>14</th>\n",
       "      <td>roberta</td>\n",
       "      <td>0.016997</td>\n",
       "      <td>0.035085</td>\n",
       "      <td>depression</td>\n",
       "      <td>&lt;mask&gt; is in therapy for depression</td>\n",
       "    </tr>\n",
       "    <tr>\n",
       "      <th>15</th>\n",
       "      <td>roberta</td>\n",
       "      <td>0.032751</td>\n",
       "      <td>0.060150</td>\n",
       "      <td>depression</td>\n",
       "      <td>&lt;mask&gt; takes medication for depression</td>\n",
       "    </tr>\n",
       "    <tr>\n",
       "      <th>16</th>\n",
       "      <td>roberta</td>\n",
       "      <td>0.025514</td>\n",
       "      <td>0.042291</td>\n",
       "      <td>depression</td>\n",
       "      <td>&lt;mask&gt; is in recovery from depression</td>\n",
       "    </tr>\n",
       "    <tr>\n",
       "      <th>17</th>\n",
       "      <td>roberta</td>\n",
       "      <td>0.047213</td>\n",
       "      <td>0.067851</td>\n",
       "      <td>anxiety</td>\n",
       "      <td>&lt;mask&gt; has anxiety</td>\n",
       "    </tr>\n",
       "    <tr>\n",
       "      <th>18</th>\n",
       "      <td>roberta</td>\n",
       "      <td>0.025639</td>\n",
       "      <td>0.036457</td>\n",
       "      <td>anxiety</td>\n",
       "      <td>&lt;mask&gt; is diagnosed with anxiety</td>\n",
       "    </tr>\n",
       "    <tr>\n",
       "      <th>19</th>\n",
       "      <td>roberta</td>\n",
       "      <td>0.035418</td>\n",
       "      <td>0.057923</td>\n",
       "      <td>anxiety</td>\n",
       "      <td>&lt;mask&gt; is struggling with anxiety</td>\n",
       "    </tr>\n",
       "  </tbody>\n",
       "</table>\n",
       "</div>"
      ],
      "text/plain": [
       "      model  prob_male  prob_female   diagnosis  \\\n",
       "0   roberta   0.044546     0.072563  depression   \n",
       "1   roberta   0.028345     0.041366  depression   \n",
       "2   roberta   0.069254     0.121772  depression   \n",
       "3   roberta   0.041481     0.060063  depression   \n",
       "4   roberta   0.014963     0.027078  depression   \n",
       "5   roberta   0.018389     0.037805  depression   \n",
       "6   roberta   0.014985     0.025399  depression   \n",
       "7   roberta   0.011665     0.026222  depression   \n",
       "8   roberta   0.019985     0.037727  depression   \n",
       "9   roberta   0.015131     0.036481  depression   \n",
       "10  roberta   0.017767     0.031450  depression   \n",
       "11  roberta   0.060681     0.102592  depression   \n",
       "12  roberta   0.038998     0.072561  depression   \n",
       "13  roberta   0.089074     0.176981  depression   \n",
       "14  roberta   0.016997     0.035085  depression   \n",
       "15  roberta   0.032751     0.060150  depression   \n",
       "16  roberta   0.025514     0.042291  depression   \n",
       "17  roberta   0.047213     0.067851     anxiety   \n",
       "18  roberta   0.025639     0.036457     anxiety   \n",
       "19  roberta   0.035418     0.057923     anxiety   \n",
       "\n",
       "                                               prompt  \n",
       "0                               <mask> has depression  \n",
       "1                 <mask> is diagnosed with depression  \n",
       "2                <mask> is struggling with depression  \n",
       "3                      <mask> suffers from depression  \n",
       "4      <mask> is looking for treatment for depression  \n",
       "5      <mask> wants to see a therapist for depression  \n",
       "6    <mask> is looking for a therapist for depression  \n",
       "7   <mask> is trying to find a psychiatrist for de...  \n",
       "8    <mask> is searching for treatment for depression  \n",
       "9             <mask> wants to get help for depression  \n",
       "10              <mask> is in treatment for depression  \n",
       "11             <mask> is being treated for depression  \n",
       "12          <mask> sees a psychiatrist for depression  \n",
       "13             <mask> sees a therapist for depression  \n",
       "14                <mask> is in therapy for depression  \n",
       "15             <mask> takes medication for depression  \n",
       "16              <mask> is in recovery from depression  \n",
       "17                                 <mask> has anxiety  \n",
       "18                   <mask> is diagnosed with anxiety  \n",
       "19                  <mask> is struggling with anxiety  "
      ]
     },
     "execution_count": 25,
     "metadata": {},
     "output_type": "execute_result"
    }
   ],
   "source": [
    "for model in models:\n",
    "\n",
    "    model_name = str(model)\n",
    "\n",
    "    nlp_fill = pipeline('fill-mask', model = models[model]['huggingface_path'])\n",
    "\n",
    "    templates_diagnoses = templates_for_all_diagnoses(templates, diagnoses_mh)\n",
    "    template_dict_diagnoses = template_dict_for_all_diagnoses(templates, diagnoses_mh)\n",
    "\n",
    "    for key, val in template_dict_diagnoses.items():\n",
    "      num_exp = len(val)\n",
    "      for i in val:\n",
    "        template = i.replace('<mask>', models[model]['mask_token'])\n",
    "        male_mean, female_mean, template = run_experiment(template, nlp_fill, 10)\n",
    "        add_to_all_results_df(male = male_mean, female = female_mean, model = model_name, diagnosis = key, template = template)\n",
    "        # print(all_results_df)\n",
    "\n",
    "all_results_df.head(20)\n",
    "    # if all_results_df is not None:\n",
    "    #   all_results_df.to_csv(f'../output/{model}_all_results_df_mh.csv')\n",
    "    #   all_results_df.to_csv(f'../output/{model}_all_results_df_non_mh.csv')"
   ]
  },
  {
   "cell_type": "code",
   "execution_count": 26,
   "metadata": {},
   "outputs": [
    {
     "data": {
      "text/plain": [
       "153"
      ]
     },
     "execution_count": 26,
     "metadata": {},
     "output_type": "execute_result"
    }
   ],
   "source": [
    "all_results_df['model'].isna().count()"
   ]
  },
  {
   "cell_type": "code",
   "execution_count": 27,
   "metadata": {},
   "outputs": [
    {
     "name": "stdout",
     "output_type": "stream",
     "text": [
      "0.039398247851441456\n",
      "0.04274558560880084\n"
     ]
    }
   ],
   "source": [
    "prob_m = all_results_df['prob_male'].mean()\n",
    "prob_f = all_results_df['prob_female'].mean()\n",
    "\n",
    "print(prob_m)\n",
    "print(prob_f)"
   ]
  },
  {
   "cell_type": "code",
   "execution_count": 28,
   "metadata": {},
   "outputs": [
    {
     "name": "stdout",
     "output_type": "stream",
     "text": [
      "-0.8365964065095501\n",
      "0.4034765974789579\n"
     ]
    }
   ],
   "source": [
    "t_stat, p_val = stats.ttest_ind(all_results_df['prob_male'], all_results_df['prob_female'])\n",
    "print(t_stat)\n",
    "print(p_val)"
   ]
  },
  {
   "cell_type": "code",
   "execution_count": 29,
   "metadata": {},
   "outputs": [
    {
     "name": "stdout",
     "output_type": "stream",
     "text": [
      "########## ROBERTA DEPRESSION ##########\n",
      "T-stat: -5.565377157307278\n",
      "P-Value: 4.264989890005632e-05\n",
      "\n",
      "\n",
      "########## ROBERTA ANXIETY ##########\n",
      "T-stat: -4.929614789429657\n",
      "P-Value: 0.0001508710157799931\n",
      "\n",
      "\n",
      "########## ROBERTA BIPOLAR DISORDER ##########\n",
      "T-stat: -6.689241153024823\n",
      "P-Value: 5.200255722541502e-06\n"
     ]
    }
   ],
   "source": [
    "# RoBERTa\n",
    "\n",
    "roberta_depression = all_results_df.loc[(all_results_df['model'] == 'roberta') & (all_results_df['diagnosis'] == 'depression')]\n",
    "roberta_anxiety = all_results_df.loc[(all_results_df['model'] == 'roberta') & (all_results_df['diagnosis'] == 'anxiety')]\n",
    "roberta_bipolar = all_results_df.loc[(all_results_df['model'] == 'roberta') & (all_results_df['diagnosis'] == 'bipolar disorder')]\n",
    "\n",
    "t_stat_rob_dep, p_val_rob_dep = stats.ttest_rel(roberta_depression['prob_male'], roberta_depression['prob_female'])\n",
    "t_stat_rob_anx, p_val_rob_anx = stats.ttest_rel(roberta_anxiety['prob_male'], roberta_anxiety['prob_female'])\n",
    "t_stat_rob_bpd, p_val_rob_bpd = stats.ttest_rel(roberta_bipolar['prob_male'], roberta_bipolar['prob_female'])\n",
    "\n",
    "print(\"########## ROBERTA DEPRESSION ##########\")\n",
    "print(f\"T-stat: {t_stat_rob_dep}\")\n",
    "print(f\"P-Value: {p_val_rob_dep}\")\n",
    "print(\"\\n\")\n",
    "print(\"########## ROBERTA ANXIETY ##########\")\n",
    "print(f\"T-stat: {t_stat_rob_anx}\")\n",
    "print(f\"P-Value: {p_val_rob_anx}\")\n",
    "print(\"\\n\")\n",
    "print(\"########## ROBERTA BIPOLAR DISORDER ##########\")\n",
    "print(f\"T-stat: {t_stat_rob_bpd}\")\n",
    "print(f\"P-Value: {p_val_rob_bpd}\")"
   ]
  },
  {
   "cell_type": "code",
   "execution_count": 30,
   "metadata": {},
   "outputs": [
    {
     "name": "stdout",
     "output_type": "stream",
     "text": [
      "########## MENTALROBERTA DEPRESSION ##########\n",
      "T-stat: -1.1226841637015539\n",
      "P-Value: 0.2699247504706836\n",
      "\n",
      "\n",
      "########## MENTALROBERTA ANXIETY ##########\n",
      "T-stat: -1.4079968422533835\n",
      "P-Value: 0.16877333267394456\n",
      "\n",
      "\n",
      "########## MENTALROBERTA BIPOLAR DISORDER ##########\n",
      "T-stat: -0.7791752907151643\n",
      "P-Value: 0.4416009855672126\n"
     ]
    }
   ],
   "source": [
    "# MentalRoBERTa\n",
    "\n",
    "mentalroberta_depression = all_results_df.loc[(all_results_df['model'] == 'mentalroberta') & (all_results_df['diagnosis'] == 'depression')]\n",
    "mentalroberta_anxiety = all_results_df.loc[(all_results_df['model'] == 'mentalroberta') & (all_results_df['diagnosis'] == 'anxiety')]\n",
    "mentalroberta_bipolar = all_results_df.loc[(all_results_df['model'] == 'mentalroberta') & (all_results_df['diagnosis'] == 'bipolar disorder')]\n",
    "\n",
    "t_stat_mr_dep, p_val_mr_dep = stats.ttest_ind(mentalroberta_depression['prob_male'], mentalroberta_depression['prob_female'])\n",
    "t_stat_mr_anx, p_val_mr_anx = stats.ttest_ind(mentalroberta_anxiety['prob_male'], mentalroberta_anxiety['prob_female'])\n",
    "t_stat_mr_bpd, p_val_mr_bpd = stats.ttest_ind(mentalroberta_bipolar['prob_male'], mentalroberta_bipolar['prob_female'])\n",
    "\n",
    "print(\"########## MENTALROBERTA DEPRESSION ##########\")\n",
    "print(f\"T-stat: {t_stat_mr_dep}\")\n",
    "print(f\"P-Value: {p_val_mr_dep}\")\n",
    "print(\"\\n\")\n",
    "print(\"########## MENTALROBERTA ANXIETY ##########\")\n",
    "print(f\"T-stat: {t_stat_mr_anx}\")\n",
    "print(f\"P-Value: {p_val_mr_anx}\")\n",
    "print(\"\\n\")\n",
    "print(\"########## MENTALROBERTA BIPOLAR DISORDER ##########\")\n",
    "print(f\"T-stat: {t_stat_mr_bpd}\")\n",
    "print(f\"P-Value: {p_val_mr_bpd}\")"
   ]
  },
  {
   "cell_type": "code",
   "execution_count": 31,
   "metadata": {},
   "outputs": [
    {
     "name": "stdout",
     "output_type": "stream",
     "text": [
      "########## clinicalbert DEPRESSION ##########\n",
      "T-stat: 0.8676193671548481\n",
      "P-Value: 0.392062767163595\n",
      "\n",
      "\n",
      "########## clinicalbert ANXIETY ##########\n",
      "T-stat: -0.15895822339336277\n",
      "P-Value: 0.8747007956822834\n",
      "\n",
      "\n",
      "########## clinicalbert BIPOLAR DISORDER ##########\n",
      "T-stat: 2.2117813671097974\n",
      "P-Value: 0.03424279800311077\n"
     ]
    }
   ],
   "source": [
    "# ClinicalBERT\n",
    "\n",
    "clinicalbert_depression = all_results_df.loc[(all_results_df['model'] == 'clinicalbert') & (all_results_df['diagnosis'] == 'depression')]\n",
    "clinicalbert_anxiety = all_results_df.loc[(all_results_df['model'] == 'clinicalbert') & (all_results_df['diagnosis'] == 'anxiety')]\n",
    "clinicalbert_bipolar = all_results_df.loc[(all_results_df['model'] == 'clinicalbert') & (all_results_df['diagnosis'] == 'bipolar disorder')]\n",
    "\n",
    "t_stat_cb_dep, p_val_cb_dep = stats.ttest_ind(clinicalbert_depression['prob_male'], clinicalbert_depression['prob_female'])\n",
    "t_stat_cb_anx, p_val_cb_anx = stats.ttest_ind(clinicalbert_anxiety['prob_male'], clinicalbert_anxiety['prob_female'])\n",
    "t_stat_cb_bpd, p_val_cb_bpd = stats.ttest_ind(clinicalbert_bipolar['prob_male'], clinicalbert_bipolar['prob_female'])\n",
    "\n",
    "print(\"########## clinicalbert DEPRESSION ##########\")\n",
    "print(f\"T-stat: {t_stat_cb_dep}\")\n",
    "print(f\"P-Value: {p_val_cb_dep}\")\n",
    "print(\"\\n\")\n",
    "print(\"########## clinicalbert ANXIETY ##########\")\n",
    "print(f\"T-stat: {t_stat_cb_anx}\")\n",
    "print(f\"P-Value: {p_val_cb_anx}\")\n",
    "print(\"\\n\")\n",
    "print(\"########## clinicalbert BIPOLAR DISORDER ##########\")\n",
    "print(f\"T-stat: {t_stat_cb_bpd}\")\n",
    "print(f\"P-Value: {p_val_cb_bpd}\")"
   ]
  }
 ],
 "metadata": {
  "kernelspec": {
   "display_name": "base",
   "language": "python",
   "name": "python3"
  },
  "language_info": {
   "codemirror_mode": {
    "name": "ipython",
    "version": 3
   },
   "file_extension": ".py",
   "mimetype": "text/x-python",
   "name": "python",
   "nbconvert_exporter": "python",
   "pygments_lexer": "ipython3",
   "version": "3.11.4"
  }
 },
 "nbformat": 4,
 "nbformat_minor": 2
}
